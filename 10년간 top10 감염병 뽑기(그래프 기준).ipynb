{
 "cells": [
  {
   "cell_type": "code",
   "execution_count": 1,
   "metadata": {},
   "outputs": [],
   "source": [
    "import numpy as np\n",
    "import pandas as pd\n",
    "import plotly.offline as pyo\n",
    "import plotly.graph_objs as go\n",
    "import matplotlib.pyplot as plt\n",
    "import plotly.express as px\n",
    "import matplotlib.pyplot as plt\n",
    "from matplotlib import cm\n",
    "import requests\n",
    "import json\n",
    "import datetime as dt\n",
    "from pandas import DataFrame\n",
    "from matplotlib import pyplot\n",
    "from IPython.display import SVG   # jupyter 상에서 SVG 이미지를 표시하기 위한 패키지\n",
    "from bs4 import BeautifulSoup\n",
    "plt.rc('font', family='Malgun Gothic')\n",
    "import pickle\n",
    "from tqdm.notebook import tqdm\n",
    "import plotly.express as px"
   ]
  },
  {
   "cell_type": "code",
   "execution_count": 2,
   "metadata": {},
   "outputs": [],
   "source": [
    "df = pd.read_csv('지역별_2010부터_감염병발생빈도.csv')\n",
    "data = pd.read_csv('지역별_2018부터_10만명당감염병발생비율.csv')\n",
    "age = pd.read_csv('연령_전체.csv', encoding = 'euc-kr',header = None)\n",
    "with open('season.pickle', 'rb') as f:\n",
    "    season = pickle.load(f)"
   ]
  },
  {
   "cell_type": "code",
   "execution_count": 3,
   "metadata": {},
   "outputs": [],
   "source": [
    "k = df.groupby('년').sum().sum()"
   ]
  },
  {
   "cell_type": "code",
   "execution_count": 12,
   "metadata": {},
   "outputs": [],
   "source": [
    "# Series sort_values : [::-1] -> 내림차순 -> 10개 -> 의 인덱스\n",
    "pd.DataFrame(k.sort_values()[::-1][:10]).index\n",
    "\n",
    "top10 = list(pd.DataFrame(k.sort_values()[::-1][:10]).index)"
   ]
  },
  {
   "cell_type": "code",
   "execution_count": 13,
   "metadata": {},
   "outputs": [
    {
     "data": {
      "text/plain": [
       "['수두',\n",
       " '유행성이하선염',\n",
       " '쯔쯔가무시증',\n",
       " '성홍열',\n",
       " '카바페넴내성장내세균속균종(CRE) 감염증',\n",
       " 'A형간염',\n",
       " 'C형간염',\n",
       " '말라리아',\n",
       " '신증후군출혈열',\n",
       " 'B형간염']"
      ]
     },
     "execution_count": 13,
     "metadata": {},
     "output_type": "execute_result"
    }
   ],
   "source": [
    "top10"
   ]
  },
  {
   "cell_type": "code",
   "execution_count": null,
   "metadata": {},
   "outputs": [],
   "source": []
  }
 ],
 "metadata": {
  "kernelspec": {
   "display_name": "Python 3",
   "language": "python",
   "name": "python3"
  },
  "language_info": {
   "codemirror_mode": {
    "name": "ipython",
    "version": 3
   },
   "file_extension": ".py",
   "mimetype": "text/x-python",
   "name": "python",
   "nbconvert_exporter": "python",
   "pygments_lexer": "ipython3",
   "version": "3.6.10"
  }
 },
 "nbformat": 4,
 "nbformat_minor": 4
}
