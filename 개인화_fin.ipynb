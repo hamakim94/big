{
 "cells": [
  {
   "cell_type": "code",
   "execution_count": 1,
   "metadata": {},
   "outputs": [],
   "source": [
    "import numpy as np\n",
    "import pandas as pd\n",
    "import plotly.offline as pyo\n",
    "import plotly.graph_objs as go\n",
    "import matplotlib.pyplot as plt\n",
    "import plotly.express as px\n",
    "import matplotlib.pyplot as plt\n",
    "from matplotlib import cm\n",
    "import requests\n",
    "import json\n",
    "import datetime as dt\n",
    "from pandas import DataFrame\n",
    "from matplotlib import pyplot\n",
    "from IPython.display import SVG   # jupyter 상에서 SVG 이미지를 표시하기 위한 패키지\n",
    "from bs4 import BeautifulSoup\n",
    "plt.rc('font', family='Malgun Gothic')\n",
    "import pickle\n",
    "from tqdm.notebook import tqdm\n",
    "import warnings\n",
    "warnings.filterwarnings(action='ignore')"
   ]
  },
  {
   "cell_type": "code",
   "execution_count": 2,
   "metadata": {},
   "outputs": [],
   "source": [
    "def make_season_dict(disease= '수두'):\n",
    "\n",
    "    # 빈도 가져워\n",
    "    df = pd.read_csv('지역별_2010부터_감염병발생빈도.csv')\n",
    "\n",
    "    # 월 추가\n",
    "    df['월'] = df['날짜'].apply(lambda x : x[-2:])\n",
    "    df['계절'] = df['월']\n",
    "    for i in tqdm(range(len(df))):   # 32640 : 계절별 요인, 2020년은 고려하지 않았고 2010년부터 2019\\년까지 \n",
    "        if df['월'][i] in ['03','04','05']:\n",
    "            df['계절'][i] = '봄'\n",
    "        elif df['월'][i] in ['06','07','08']:\n",
    "            df['계절'][i] = '여름'\n",
    "        elif df['월'][i] in ['09','10','11']:\n",
    "            df['계절'][i] = '가을'\n",
    "        else:\n",
    "            df['계절'][i] = '겨울'\n",
    "\n",
    "    season = df.iloc[range(32640)].groupby('계절').sum().reset_index()\n",
    "\n",
    "    season_dict = {}\n",
    "    for i in range(len(season['계절'])):\n",
    "        a =season['계절'][i]\n",
    "        season_dict[a] =( season[disease][i] / season[disease].sum())\n",
    "    return season_dict"
   ]
  },
  {
   "cell_type": "code",
   "execution_count": null,
   "metadata": {},
   "outputs": [],
   "source": [
    "make_season_dict('')"
   ]
  },
  {
   "cell_type": "code",
   "execution_count": 3,
   "metadata": {},
   "outputs": [],
   "source": [
    "def make_age_dict(disease = '수두'):\n",
    "\n",
    "    # 불러들이기\n",
    "    age = pd.read_csv('연령_전체.csv', encoding = 'euc-kr',header = None)\n",
    "\n",
    "    # 컬럼명 지정\n",
    "    colum = ['나이','에볼라바이러스병 ','마버그열','라싸열','크리미안콩고출혈열','남아메리카출혈열','리프트밸리열','두창','페스트','탄저','보툴리눔독소증','야토병','신종감염병증후군',\n",
    "            '중증급성호흡기증후군(SARS)','중동호흡기증후군(MERS)','동물인플루엔자 인체감염증','신종인플루엔자','디프테리아','수두','홍역','콜레라','장티푸스', '파라티푸스',\n",
    "            '세균성이질','장출혈성대장균감염증','A형간염','백일해','유행성이하선염','풍진(2018년이전)','풍진(선천성)','풍진(후천성)','폴리오','수막구균 감염증','b형헤모필루스인플루엔자',\n",
    "            '폐렴구균 감염증','한센병','성홍열','반코마이신내성황색포도알균(VRSA) 감염증','카바페넴내성장내세균속균종(CRE) 감염증','E형간염','파상풍','B형간염','일본뇌염',\n",
    "            'C형간염','말라리아','레지오넬라증','비브리오패혈증','발진티푸스','발진열','쯔쯔가무시증','렙토스피라증','브루셀라증','공수병','신증후군출혈열','크로이츠펠트-야콥병(CJD) 및 변종크로이츠펠트-야콥병(vCJD)',\n",
    "            '황열','뎅기열','큐열','웨스트나일열','라임병','진드기매개뇌염','유비저','치쿤구니야열','중증열성혈소판감소증후군(SFTS)','지카바이러스감염증']\n",
    "\n",
    "    # age의 컬럼을 colum으로\n",
    "    age.columns = colum\n",
    "\n",
    "\n",
    "    ## 나이 요인 뽑기\n",
    "    age_dict = {}\n",
    "    for i in range(1, len(age['나이'])):\n",
    "        a =age['나이'][i]\n",
    "        age_dict[a] =( age[disease][i] / age[disease][1:].sum())\n",
    "        \n",
    "    return age_dict"
   ]
  },
  {
   "cell_type": "code",
   "execution_count": 33,
   "metadata": {},
   "outputs": [],
   "source": [
    "age_dict = make_age_dict('수두')"
   ]
  },
  {
   "cell_type": "markdown",
   "metadata": {},
   "source": [
    "# 급수로 위험도 나타내서 뽑기"
   ]
  },
  {
   "cell_type": "code",
   "execution_count": 4,
   "metadata": {},
   "outputs": [],
   "source": [
    "def make_risk_series(location = '서울강남구'):\n",
    "    # 위험도 가져오쟈\n",
    "    급1 = ['에볼라바이러스병 ','마버그열','라싸열','크리미안콩고출혈열','남아메리카출혈열','리프트밸리열','두창','페스트','탄저','보툴리눔독소증','야토병','신종감염병증후군',\n",
    "            '중증급성호흡기증후군(SARS)','중동호흡기증후군(MERS)','동물인플루엔자 인체감염증','신종인플루엔자','디프테리아']\n",
    "\n",
    "    급2 = [ '수두','홍역','콜레라','장티푸스', '파라티푸스',\n",
    "            '세균성이질','장출혈성대장균감염증','A형간염','백일해','유행성이하선염','풍진(2018년이전)','풍진(선천성)','풍진(후천성)','폴리오','수막구균 감염증','b형헤모필루스인플루엔자',\n",
    "            '폐렴구균 감염증','한센병','성홍열','반코마이신내성황색포도알균(VRSA) 감염증','카바페넴내성장내세균속균종(CRE) 감염증','E형간염']\n",
    "\n",
    "\n",
    "    급3 =  ['파상풍','B형간염','일본뇌염',\n",
    "            'C형간염','말라리아','레지오넬라증','비브리오패혈증','발진티푸스','발진열','쯔쯔가무시증','렙토스피라증','브루셀라증','공수병','신증후군출혈열','크로이츠펠트-야콥병(CJD) 및 변종크로이츠펠트-야콥병(vCJD)',\n",
    "            '황열','뎅기열','큐열','웨스트나일열','라임병','진드기매개뇌염','유비저','치쿤구니야열','중증열성혈소판감소증후군(SFTS)','지카바이러스감염증']\n",
    "\n",
    "\n",
    "\n",
    "\n",
    "    ## input : 계절, 나이, \n",
    "    colum1 = 급1 + 급2 + 급3\n",
    "\n",
    "    risk = {}\n",
    "    for disease in colum1:\n",
    "    #감염병 명 : 위험도\n",
    "        k=0\n",
    "        if disease in 급1:\n",
    "            k = 3\n",
    "        elif disease in 급2:\n",
    "            k = 2\n",
    "        else:\n",
    "            k=1\n",
    "\n",
    "        # 저번달 감염병 10만명당 발생률 가져오기 #    \n",
    "        data = pd.read_csv('지역별_2018부터_10만명당감염병발생비율.csv')\n",
    "        data[disease] =  data[disease].apply(lambda x : 0 if x == '-' else float(x))\n",
    "        last = data[data['날짜'] == data['날짜'].values.max()]\n",
    "        num = last[last['구분'] == '{} '.format(location)][disease]\n",
    "        if num.values[0] != 0:\n",
    "            risk[disease] = (num * k).values[0]\n",
    "\n",
    "\n",
    "    risk_series = pd.Series(risk)\n",
    "    \n",
    "    return risk_series"
   ]
  },
  {
   "cell_type": "code",
   "execution_count": 12,
   "metadata": {},
   "outputs": [
    {
     "data": {
      "text/plain": [
       "수두            4.82\n",
       "장출혈성대장균감염증    0.74\n",
       "A형간염          0.74\n",
       "유행성이하선염       1.86\n",
       "성홍열           0.74\n",
       "dtype: float64"
      ]
     },
     "execution_count": 12,
     "metadata": {},
     "output_type": "execute_result"
    }
   ],
   "source": [
    "make_risk_series('서울노원구')"
   ]
  },
  {
   "cell_type": "code",
   "execution_count": 9,
   "metadata": {},
   "outputs": [],
   "source": [
    "def final_output(input_age = 41,input_season = '겨울', location = '서울강남구'):\n",
    "\n",
    "\n",
    "    if input_age < 10:\n",
    "        input_age = '0~9세'\n",
    "    elif input_age < 20:\n",
    "        input_age = '10~19세'\n",
    "    elif input_age < 30:\n",
    "        input_age = '20~29세'\n",
    "    elif input_age < 40:\n",
    "        input_age = '30~39세'\n",
    "    elif input_age < 50:\n",
    "        input_age = '40~49세'\n",
    "    elif input_age < 60:\n",
    "        input_age = '50~59세'\n",
    "    elif input_age < 70:\n",
    "        input_age = '60~69세'\n",
    "    else:\n",
    "        input_age = '70세 이상'\n",
    "\n",
    "    risk_series = make_risk_series(location)\n",
    "\n",
    "\n",
    "    danger = {}\n",
    "    for disease_names in list(risk_series.index):\n",
    "        # 계절별 요인\n",
    "        season_dict = make_season_dict(disease_names)##########위에거 사용\n",
    "        num_season = season_dict[input_season]\n",
    "\n",
    "        # 나이별 요인\n",
    "        age_dict = make_age_dict(disease_names)############위에거 사용\n",
    "        num_age = age_dict[input_age]\n",
    "\n",
    "        danger[disease_names] = num_age* num_season*risk_series[disease_names]\n",
    "        \n",
    "    print('---------------------top3----------------------')\n",
    "    print('조심해야할 감염병 3개~')\n",
    "    print(pd.Series(danger).sort_values()[::-1][:3])\n",
    "    \n",
    "    return pd.Series(danger).sort_values()[::-1]\n"
   ]
  },
  {
   "cell_type": "code",
   "execution_count": 14,
   "metadata": {},
   "outputs": [
    {
     "data": {
      "application/vnd.jupyter.widget-view+json": {
       "model_id": "4b3b4b9295e54bb39d31ce948a53efe5",
       "version_major": 2,
       "version_minor": 0
      },
      "text/plain": [
       "HBox(children=(FloatProgress(value=0.0, max=34544.0), HTML(value='')))"
      ]
     },
     "metadata": {},
     "output_type": "display_data"
    },
    {
     "name": "stderr",
     "output_type": "stream",
     "text": [
      "C:\\Users\\mingy\\anaconda3\\envs\\nlp\\lib\\site-packages\\ipykernel_launcher.py:17: SettingWithCopyWarning:\n",
      "\n",
      "\n",
      "A value is trying to be set on a copy of a slice from a DataFrame\n",
      "\n",
      "See the caveats in the documentation: https://pandas.pydata.org/pandas-docs/stable/user_guide/indexing.html#returning-a-view-versus-a-copy\n",
      "\n",
      "C:\\Users\\mingy\\anaconda3\\envs\\nlp\\lib\\site-packages\\ipykernel_launcher.py:11: SettingWithCopyWarning:\n",
      "\n",
      "\n",
      "A value is trying to be set on a copy of a slice from a DataFrame\n",
      "\n",
      "See the caveats in the documentation: https://pandas.pydata.org/pandas-docs/stable/user_guide/indexing.html#returning-a-view-versus-a-copy\n",
      "\n",
      "C:\\Users\\mingy\\anaconda3\\envs\\nlp\\lib\\site-packages\\ipykernel_launcher.py:13: SettingWithCopyWarning:\n",
      "\n",
      "\n",
      "A value is trying to be set on a copy of a slice from a DataFrame\n",
      "\n",
      "See the caveats in the documentation: https://pandas.pydata.org/pandas-docs/stable/user_guide/indexing.html#returning-a-view-versus-a-copy\n",
      "\n",
      "C:\\Users\\mingy\\anaconda3\\envs\\nlp\\lib\\site-packages\\ipykernel_launcher.py:15: SettingWithCopyWarning:\n",
      "\n",
      "\n",
      "A value is trying to be set on a copy of a slice from a DataFrame\n",
      "\n",
      "See the caveats in the documentation: https://pandas.pydata.org/pandas-docs/stable/user_guide/indexing.html#returning-a-view-versus-a-copy\n",
      "\n"
     ]
    },
    {
     "name": "stdout",
     "output_type": "stream",
     "text": [
      "\n"
     ]
    },
    {
     "data": {
      "application/vnd.jupyter.widget-view+json": {
       "model_id": "c817df4592054a20b70ed272de7a81d0",
       "version_major": 2,
       "version_minor": 0
      },
      "text/plain": [
       "HBox(children=(FloatProgress(value=0.0, max=34544.0), HTML(value='')))"
      ]
     },
     "metadata": {},
     "output_type": "display_data"
    },
    {
     "name": "stdout",
     "output_type": "stream",
     "text": [
      "\n"
     ]
    },
    {
     "data": {
      "application/vnd.jupyter.widget-view+json": {
       "model_id": "32d68768263d47f5ace9eeb160bfc184",
       "version_major": 2,
       "version_minor": 0
      },
      "text/plain": [
       "HBox(children=(FloatProgress(value=0.0, max=34544.0), HTML(value='')))"
      ]
     },
     "metadata": {},
     "output_type": "display_data"
    },
    {
     "name": "stdout",
     "output_type": "stream",
     "text": [
      "\n"
     ]
    },
    {
     "data": {
      "application/vnd.jupyter.widget-view+json": {
       "model_id": "53e13bc10a464002a03938fb52ac582c",
       "version_major": 2,
       "version_minor": 0
      },
      "text/plain": [
       "HBox(children=(FloatProgress(value=0.0, max=34544.0), HTML(value='')))"
      ]
     },
     "metadata": {},
     "output_type": "display_data"
    },
    {
     "name": "stdout",
     "output_type": "stream",
     "text": [
      "\n"
     ]
    },
    {
     "data": {
      "application/vnd.jupyter.widget-view+json": {
       "model_id": "610d507b91bc479794c96f1e2b984074",
       "version_major": 2,
       "version_minor": 0
      },
      "text/plain": [
       "HBox(children=(FloatProgress(value=0.0, max=34544.0), HTML(value='')))"
      ]
     },
     "metadata": {},
     "output_type": "display_data"
    },
    {
     "name": "stdout",
     "output_type": "stream",
     "text": [
      "\n",
      "---------------------top3----------------------\n",
      "조심해야할 감염병 3개~\n",
      "파라티푸스                 0.118953\n",
      "유행성이하선염               0.030917\n",
      "중증열성혈소판감소증후군(SFTS)    0.021879\n",
      "dtype: float64\n"
     ]
    },
    {
     "data": {
      "text/plain": [
       "파라티푸스                 0.118953\n",
       "유행성이하선염               0.030917\n",
       "중증열성혈소판감소증후군(SFTS)    0.021879\n",
       "수두                    0.010537\n",
       "C형간염                  0.008945\n",
       "dtype: float64"
      ]
     },
     "execution_count": 14,
     "metadata": {},
     "output_type": "execute_result"
    }
   ],
   "source": [
    "final_output(input_age = 31, input_season = '여름', location = '대구중구')"
   ]
  },
  {
   "cell_type": "code",
   "execution_count": 73,
   "metadata": {},
   "outputs": [],
   "source": [
    "def all_in_one(disease = '수두', location = '서울강남구', input_age = 41,input_season = '겨울'):\n",
    "    season_dict = make_season_dict(disease)\n",
    "    age_dict = make_age_dict(disease)\n",
    "    risk_series = make_dangerous_ratio(disease , location)\n",
    "    final = final_series(input_age,input_season)\n",
    "    print('---------------------top3----------------------')\n",
    "    print('조심해야할 감염병 3개~')\n",
    "    print(pd.Series(final).sort_values()[::-1][:3])\n",
    "    return pd.Series(final).sort_values()[::-1][:3]\n",
    "    \n",
    "    \n"
   ]
  },
  {
   "cell_type": "code",
   "execution_count": 105,
   "metadata": {},
   "outputs": [
    {
     "name": "stdout",
     "output_type": "stream",
     "text": [
      "C형간염       0.017461\n",
      "A형간염       0.013318\n",
      "유행성이하선염    0.005808\n",
      "dtype: float64\n"
     ]
    }
   ],
   "source": [
    "print(pd.Series(danger).sort_values()[::-1][:3])"
   ]
  },
  {
   "cell_type": "code",
   "execution_count": null,
   "metadata": {},
   "outputs": [],
   "source": [
    "all_in_one(disease = 'A형')"
   ]
  }
 ],
 "metadata": {
  "kernelspec": {
   "display_name": "Python 3",
   "language": "python",
   "name": "python3"
  },
  "language_info": {
   "codemirror_mode": {
    "name": "ipython",
    "version": 3
   },
   "file_extension": ".py",
   "mimetype": "text/x-python",
   "name": "python",
   "nbconvert_exporter": "python",
   "pygments_lexer": "ipython3",
   "version": "3.6.10"
  }
 },
 "nbformat": 4,
 "nbformat_minor": 4
}
